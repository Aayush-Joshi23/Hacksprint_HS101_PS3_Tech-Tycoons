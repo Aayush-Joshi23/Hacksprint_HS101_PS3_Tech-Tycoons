{
 "cells": [
  {
   "cell_type": "code",
   "execution_count": 95,
   "metadata": {},
   "outputs": [],
   "source": [
    "import numpy as np \n",
    "import pandas as pd\n",
    "import matplotlib.pyplot as plt\n",
    "import openpyxl  \n",
    "import time  \n",
    "\n",
    "import win32com.client\n",
    "from pywintypes import com_error\n"
   ]
  },
  {
   "cell_type": "code",
   "execution_count": 96,
   "metadata": {},
   "outputs": [
    {
     "data": {
      "text/html": [
       "<div>\n",
       "<style scoped>\n",
       "    .dataframe tbody tr th:only-of-type {\n",
       "        vertical-align: middle;\n",
       "    }\n",
       "\n",
       "    .dataframe tbody tr th {\n",
       "        vertical-align: top;\n",
       "    }\n",
       "\n",
       "    .dataframe thead th {\n",
       "        text-align: right;\n",
       "    }\n",
       "</style>\n",
       "<table border=\"1\" class=\"dataframe\">\n",
       "  <thead>\n",
       "    <tr style=\"text-align: right;\">\n",
       "      <th></th>\n",
       "      <th>Name</th>\n",
       "      <th>Roll No.</th>\n",
       "      <th>Gender</th>\n",
       "      <th>College Code</th>\n",
       "      <th>College Name</th>\n",
       "      <th>Subject 1</th>\n",
       "      <th>Subject 2</th>\n",
       "      <th>Subject 3</th>\n",
       "      <th>Subject 4</th>\n",
       "      <th>Subject 5</th>\n",
       "      <th>Attendace</th>\n",
       "    </tr>\n",
       "  </thead>\n",
       "  <tbody>\n",
       "    <tr>\n",
       "      <th>0</th>\n",
       "      <td>Yasho</td>\n",
       "      <td>17055</td>\n",
       "      <td>M</td>\n",
       "      <td>4095</td>\n",
       "      <td>I2IT</td>\n",
       "      <td>8.11</td>\n",
       "      <td>7.68</td>\n",
       "      <td>7.11</td>\n",
       "      <td>7.43</td>\n",
       "      <td>8.18</td>\n",
       "      <td>98</td>\n",
       "    </tr>\n",
       "    <tr>\n",
       "      <th>1</th>\n",
       "      <td>Piyush</td>\n",
       "      <td>17056</td>\n",
       "      <td>M</td>\n",
       "      <td>4095</td>\n",
       "      <td>I2IT</td>\n",
       "      <td>6.48</td>\n",
       "      <td>5.90</td>\n",
       "      <td>4.15</td>\n",
       "      <td>4.29</td>\n",
       "      <td>4.96</td>\n",
       "      <td>83</td>\n",
       "    </tr>\n",
       "    <tr>\n",
       "      <th>2</th>\n",
       "      <td>Aayush</td>\n",
       "      <td>17057</td>\n",
       "      <td>M</td>\n",
       "      <td>4095</td>\n",
       "      <td>I2IT</td>\n",
       "      <td>8.41</td>\n",
       "      <td>8.24</td>\n",
       "      <td>7.52</td>\n",
       "      <td>8.25</td>\n",
       "      <td>7.75</td>\n",
       "      <td>76</td>\n",
       "    </tr>\n",
       "    <tr>\n",
       "      <th>3</th>\n",
       "      <td>Pratik</td>\n",
       "      <td>17058</td>\n",
       "      <td>M</td>\n",
       "      <td>4095</td>\n",
       "      <td>I2IT</td>\n",
       "      <td>7.33</td>\n",
       "      <td>6.83</td>\n",
       "      <td>6.33</td>\n",
       "      <td>6.79</td>\n",
       "      <td>6.89</td>\n",
       "      <td>60</td>\n",
       "    </tr>\n",
       "  </tbody>\n",
       "</table>\n",
       "</div>"
      ],
      "text/plain": [
       "     Name  Roll No. Gender  College Code College Name  Subject 1  Subject 2  \\\n",
       "0   Yasho     17055      M          4095         I2IT       8.11       7.68   \n",
       "1  Piyush     17056      M          4095         I2IT       6.48       5.90   \n",
       "2  Aayush     17057      M          4095         I2IT       8.41       8.24   \n",
       "3  Pratik     17058      M          4095         I2IT       7.33       6.83   \n",
       "\n",
       "   Subject 3  Subject 4  Subject 5  Attendace  \n",
       "0       7.11       7.43       8.18         98  \n",
       "1       4.15       4.29       4.96         83  \n",
       "2       7.52       8.25       7.75         76  \n",
       "3       6.33       6.79       6.89         60  "
      ]
     },
     "execution_count": 96,
     "metadata": {},
     "output_type": "execute_result"
    }
   ],
   "source": [
    "df = pd.read_csv(\"Student_data_2.csv\")\n",
    "df.head()"
   ]
  },
  {
   "cell_type": "code",
   "execution_count": 97,
   "metadata": {},
   "outputs": [
    {
     "data": {
      "text/html": [
       "<div>\n",
       "<style scoped>\n",
       "    .dataframe tbody tr th:only-of-type {\n",
       "        vertical-align: middle;\n",
       "    }\n",
       "\n",
       "    .dataframe tbody tr th {\n",
       "        vertical-align: top;\n",
       "    }\n",
       "\n",
       "    .dataframe thead th {\n",
       "        text-align: right;\n",
       "    }\n",
       "</style>\n",
       "<table border=\"1\" class=\"dataframe\">\n",
       "  <thead>\n",
       "    <tr style=\"text-align: right;\">\n",
       "      <th></th>\n",
       "      <th>Name</th>\n",
       "      <th>Gender</th>\n",
       "      <th>College Code</th>\n",
       "      <th>College Name</th>\n",
       "      <th>Subject 1</th>\n",
       "      <th>Subject 2</th>\n",
       "      <th>Subject 3</th>\n",
       "      <th>Subject 4</th>\n",
       "      <th>Subject 5</th>\n",
       "      <th>Attendace</th>\n",
       "    </tr>\n",
       "    <tr>\n",
       "      <th>Roll No.</th>\n",
       "      <th></th>\n",
       "      <th></th>\n",
       "      <th></th>\n",
       "      <th></th>\n",
       "      <th></th>\n",
       "      <th></th>\n",
       "      <th></th>\n",
       "      <th></th>\n",
       "      <th></th>\n",
       "      <th></th>\n",
       "    </tr>\n",
       "  </thead>\n",
       "  <tbody>\n",
       "    <tr>\n",
       "      <th>17055</th>\n",
       "      <td>Yasho</td>\n",
       "      <td>M</td>\n",
       "      <td>4095</td>\n",
       "      <td>I2IT</td>\n",
       "      <td>8.11</td>\n",
       "      <td>7.68</td>\n",
       "      <td>7.11</td>\n",
       "      <td>7.43</td>\n",
       "      <td>8.18</td>\n",
       "      <td>98</td>\n",
       "    </tr>\n",
       "    <tr>\n",
       "      <th>17056</th>\n",
       "      <td>Piyush</td>\n",
       "      <td>M</td>\n",
       "      <td>4095</td>\n",
       "      <td>I2IT</td>\n",
       "      <td>6.48</td>\n",
       "      <td>5.90</td>\n",
       "      <td>4.15</td>\n",
       "      <td>4.29</td>\n",
       "      <td>4.96</td>\n",
       "      <td>83</td>\n",
       "    </tr>\n",
       "    <tr>\n",
       "      <th>17057</th>\n",
       "      <td>Aayush</td>\n",
       "      <td>M</td>\n",
       "      <td>4095</td>\n",
       "      <td>I2IT</td>\n",
       "      <td>8.41</td>\n",
       "      <td>8.24</td>\n",
       "      <td>7.52</td>\n",
       "      <td>8.25</td>\n",
       "      <td>7.75</td>\n",
       "      <td>76</td>\n",
       "    </tr>\n",
       "    <tr>\n",
       "      <th>17058</th>\n",
       "      <td>Pratik</td>\n",
       "      <td>M</td>\n",
       "      <td>4095</td>\n",
       "      <td>I2IT</td>\n",
       "      <td>7.33</td>\n",
       "      <td>6.83</td>\n",
       "      <td>6.33</td>\n",
       "      <td>6.79</td>\n",
       "      <td>6.89</td>\n",
       "      <td>60</td>\n",
       "    </tr>\n",
       "  </tbody>\n",
       "</table>\n",
       "</div>"
      ],
      "text/plain": [
       "            Name Gender  College Code College Name  Subject 1  Subject 2  \\\n",
       "Roll No.                                                                   \n",
       "17055      Yasho      M          4095         I2IT       8.11       7.68   \n",
       "17056     Piyush      M          4095         I2IT       6.48       5.90   \n",
       "17057     Aayush      M          4095         I2IT       8.41       8.24   \n",
       "17058     Pratik      M          4095         I2IT       7.33       6.83   \n",
       "\n",
       "          Subject 3  Subject 4  Subject 5  Attendace  \n",
       "Roll No.                                              \n",
       "17055          7.11       7.43       8.18         98  \n",
       "17056          4.15       4.29       4.96         83  \n",
       "17057          7.52       8.25       7.75         76  \n",
       "17058          6.33       6.79       6.89         60  "
      ]
     },
     "execution_count": 97,
     "metadata": {},
     "output_type": "execute_result"
    }
   ],
   "source": [
    "gender = list(df[\"Gender\"])\n",
    "rollNos = list(df[\"Roll No.\"])\n",
    "atten = list(df[\"Attendace\"])\n",
    "name = list(df[\"Name\"])\n",
    "for i in range(len(gender)):\n",
    "    if gender[i] == \"Female\": \n",
    "        gender[i] = \"F\"\n",
    "    elif gender[i] == \"Male\":\n",
    "        gender[i] = \"M\"\n",
    "df[\"Gender\"] = gender\n",
    "df.set_index(\"Roll No.\", inplace = True)\n",
    "df.head()"
   ]
  },
  {
   "cell_type": "code",
   "execution_count": 98,
   "metadata": {},
   "outputs": [
    {
     "data": {
      "text/html": [
       "<div>\n",
       "<style scoped>\n",
       "    .dataframe tbody tr th:only-of-type {\n",
       "        vertical-align: middle;\n",
       "    }\n",
       "\n",
       "    .dataframe tbody tr th {\n",
       "        vertical-align: top;\n",
       "    }\n",
       "\n",
       "    .dataframe thead th {\n",
       "        text-align: right;\n",
       "    }\n",
       "</style>\n",
       "<table border=\"1\" class=\"dataframe\">\n",
       "  <thead>\n",
       "    <tr style=\"text-align: right;\">\n",
       "      <th></th>\n",
       "      <th>Max Marks</th>\n",
       "      <th>Average Marks</th>\n",
       "      <th>Minimum Marks</th>\n",
       "    </tr>\n",
       "  </thead>\n",
       "  <tbody>\n",
       "    <tr>\n",
       "      <th>Subject 1</th>\n",
       "      <td>8.41</td>\n",
       "      <td>7.5825</td>\n",
       "      <td>6.48</td>\n",
       "    </tr>\n",
       "    <tr>\n",
       "      <th>Subject 2</th>\n",
       "      <td>8.24</td>\n",
       "      <td>7.1625</td>\n",
       "      <td>5.90</td>\n",
       "    </tr>\n",
       "    <tr>\n",
       "      <th>Subject 3</th>\n",
       "      <td>7.52</td>\n",
       "      <td>6.2775</td>\n",
       "      <td>4.15</td>\n",
       "    </tr>\n",
       "    <tr>\n",
       "      <th>Subject 4</th>\n",
       "      <td>8.25</td>\n",
       "      <td>6.6900</td>\n",
       "      <td>4.29</td>\n",
       "    </tr>\n",
       "    <tr>\n",
       "      <th>Subject 5</th>\n",
       "      <td>8.18</td>\n",
       "      <td>6.9450</td>\n",
       "      <td>4.96</td>\n",
       "    </tr>\n",
       "  </tbody>\n",
       "</table>\n",
       "</div>"
      ],
      "text/plain": [
       "           Max Marks  Average Marks  Minimum Marks\n",
       "Subject 1       8.41         7.5825           6.48\n",
       "Subject 2       8.24         7.1625           5.90\n",
       "Subject 3       7.52         6.2775           4.15\n",
       "Subject 4       8.25         6.6900           4.29\n",
       "Subject 5       8.18         6.9450           4.96"
      ]
     },
     "execution_count": 98,
     "metadata": {},
     "output_type": "execute_result"
    }
   ],
   "source": [
    "subs = np.array([\"Subject 1\", \"Subject 2\", \"Subject 3\", \"Subject 4\", \"Subject 5\"])\n",
    "max_marks = []\n",
    "avg_marks = []\n",
    "min_marks = []\n",
    "for i in range(5):\n",
    "    max_marks.append(max(df[subs[i]]))\n",
    "    avg_marks.append(np.mean(df[subs[i]]))\n",
    "    min_marks.append(min(df[subs[i]]))\n",
    "s1 = pd.Series(max_marks, index = [subs])\n",
    "s2 = pd.Series(avg_marks, index = [subs])\n",
    "s3 = pd.Series(min_marks, index = [subs])\n",
    "\n",
    "analysis = pd.DataFrame([s1, s2, s3])\n",
    "analysis = analysis.T\n",
    "analysis.rename(columns={0:\"Max Marks\", 1:\"Average Marks\", 2:\"Minimum Marks\"}, inplace = True)\n",
    "analysis"
   ]
  },
  {
   "cell_type": "code",
   "execution_count": 99,
   "metadata": {},
   "outputs": [
    {
     "data": {
      "image/png": "[encoded data removed]",
      "text/plain": [
       "<Figure size 432x288 with 1 Axes>"
      ]
     },
     "metadata": {
      "needs_background": "light"
     },
     "output_type": "display_data"
    }
   ],
   "source": [
    "n_groups = 5\n",
    "data = [avg_marks, max_marks]\n",
    "\n",
    "# create plot\n",
    "fig, ax = plt.subplots()\n",
    "index = np.arange(n_groups)\n",
    "bar_width = 0.35\n",
    "\n",
    "col_1 = plt.bar(index, data[0], bar_width, color='b', label='Average Marks')\n",
    "\n",
    "col_2 = plt.bar(index + bar_width, data[1], bar_width, color='g', label='Max Marks')\n",
    "\n",
    "plt.xlabel('Subjects')\n",
    "plt.ylabel('Marks')\n",
    "plt.title('Comparison Graph')\n",
    "plt.xticks(index + bar_width/2 , subs)\n",
    "plt.legend()\n",
    "\n",
    "plt.tight_layout()\n",
    "plt.show()"
   ]
  },
  {
   "cell_type": "code",
   "execution_count": 100,
   "metadata": {},
   "outputs": [
    {
     "data": {
      "text/html": [
       "<div>\n",
       "<style scoped>\n",
       "    .dataframe tbody tr th:only-of-type {\n",
       "        vertical-align: middle;\n",
       "    }\n",
       "\n",
       "    .dataframe tbody tr th {\n",
       "        vertical-align: top;\n",
       "    }\n",
       "\n",
       "    .dataframe thead th {\n",
       "        text-align: right;\n",
       "    }\n",
       "</style>\n",
       "<table border=\"1\" class=\"dataframe\">\n",
       "  <thead>\n",
       "    <tr style=\"text-align: right;\">\n",
       "      <th></th>\n",
       "      <th>Subject 1</th>\n",
       "      <th>Subject 2</th>\n",
       "      <th>Subject 3</th>\n",
       "      <th>Subject 4</th>\n",
       "      <th>Subject 5</th>\n",
       "    </tr>\n",
       "    <tr>\n",
       "      <th>Roll No.</th>\n",
       "      <th></th>\n",
       "      <th></th>\n",
       "      <th></th>\n",
       "      <th></th>\n",
       "      <th></th>\n",
       "    </tr>\n",
       "  </thead>\n",
       "  <tbody>\n",
       "    <tr>\n",
       "      <th>17055</th>\n",
       "      <td>8.11</td>\n",
       "      <td>7.68</td>\n",
       "      <td>7.11</td>\n",
       "      <td>7.43</td>\n",
       "      <td>8.18</td>\n",
       "    </tr>\n",
       "    <tr>\n",
       "      <th>17056</th>\n",
       "      <td>6.48</td>\n",
       "      <td>5.90</td>\n",
       "      <td>4.15</td>\n",
       "      <td>4.29</td>\n",
       "      <td>4.96</td>\n",
       "    </tr>\n",
       "    <tr>\n",
       "      <th>17057</th>\n",
       "      <td>8.41</td>\n",
       "      <td>8.24</td>\n",
       "      <td>7.52</td>\n",
       "      <td>8.25</td>\n",
       "      <td>7.75</td>\n",
       "    </tr>\n",
       "    <tr>\n",
       "      <th>17058</th>\n",
       "      <td>7.33</td>\n",
       "      <td>6.83</td>\n",
       "      <td>6.33</td>\n",
       "      <td>6.79</td>\n",
       "      <td>6.89</td>\n",
       "    </tr>\n",
       "  </tbody>\n",
       "</table>\n",
       "</div>"
      ],
      "text/plain": [
       "          Subject 1  Subject 2  Subject 3  Subject 4  Subject 5\n",
       "Roll No.                                                       \n",
       "17055          8.11       7.68       7.11       7.43       8.18\n",
       "17056          6.48       5.90       4.15       4.29       4.96\n",
       "17057          8.41       8.24       7.52       8.25       7.75\n",
       "17058          7.33       6.83       6.33       6.79       6.89"
      ]
     },
     "execution_count": 100,
     "metadata": {},
     "output_type": "execute_result"
    }
   ],
   "source": [
    "df2 = df\n",
    "df = df.drop(['College Name', 'Gender', \"Name\", \"College Code\", \"Attendace\"], axis=1)\n",
    "df.head()"
   ]
  },
  {
   "cell_type": "code",
   "execution_count": 101,
   "metadata": {},
   "outputs": [
    {
     "data": {
      "text/plain": [
       "[8.11, 7.68, 7.11, 7.43, 8.18]"
      ]
     },
     "execution_count": 101,
     "metadata": {},
     "output_type": "execute_result"
    }
   ],
   "source": [
    "rows = []\n",
    "stud = []\n",
    "for i in range(5):\n",
    "    rows.append(list(df[subs[i]]))\n",
    "for i in range(len(rollNos)):\n",
    "    for j in range(5):\n",
    "        stud.append(rows[j][i])\n",
    "def grouper(list, n):\n",
    "    for i in range(0, len(list), n):\n",
    "        yield list[i:i+n]\n",
    "stud = list(grouper(stud, 5))\n",
    "stud[0]"
   ]
  },
  {
   "cell_type": "code",
   "execution_count": 102,
   "metadata": {},
   "outputs": [],
   "source": [
    "def save_plots(stud1, fileName, i):\n",
    "    X = np.arange(5)\n",
    "    fig = plt.figure(figsize=(8,4))\n",
    "    ax = fig.add_axes([0,0,1,1])\n",
    "    ax.bar(X + 0.00, avg_marks, color = 'b', width = 0.25)\n",
    "    ax.bar(X + 0.25, stud1, color = 'r', width = 0.25)\n",
    "    ax.bar(X + 0.50, max_marks, color = 'g', width = 0.25)\n",
    "    plt.title(\"Analysis of student\" + str(i+1))\n",
    "    plt.ylabel(\"Grade Points\")\n",
    "    plt.xlabel(\"Subjects\")\n",
    "    plt.xticks(X + 0.25, subs)\n",
    "    ax.legend(labels=['Avg Marks', 'Student Marks', 'Max Marks'])\n",
    "    plt.savefig(\"Plots\\\\\" + fileName, dpi = 150)\n",
    "    plt.tight_layout()"
   ]
  },
  {
   "cell_type": "code",
   "execution_count": 103,
   "metadata": {},
   "outputs": [],
   "source": [
    "def report_card(stud, mim, mam, avm, subs):\n",
    "    s1 = pd.Series(mim, index = subs)\n",
    "    s2 = pd.Series(mam, index = subs)\n",
    "    s3 = pd.Series(stud, index = subs)\n",
    "    s4 = pd.Series(avm, index = subs)\n",
    "    stud.append(sum(stud)/5)\n",
    "    grades = []\n",
    "    for i in range(len(stud)):\n",
    "        if stud[i] >= 9:\n",
    "            grades.append(\"O\")\n",
    "        elif 9 > stud[i] >= 8:\n",
    "            grades.append(\"A\")\n",
    "        elif 8 > stud[i] >= 7:\n",
    "            grades.append(\"B\")\n",
    "        elif 7 > stud[i] >= 6:\n",
    "            grades.append(\"C\")\n",
    "        elif 6 > stud[i] >= 5:\n",
    "            grades.append(\"D\")\n",
    "        elif 5 > stud[i] >= 4:\n",
    "            grades.append(\"P\")\n",
    "        else:\n",
    "            grades.append(\"F\")\n",
    "    result1 = pd.DataFrame((s4, s2, s3), index = [\"Avg\", \"Max\", \"Your\"])\n",
    "    result1 = result1.T\n",
    "    total = sum(list(result1[\"Your\"]))\n",
    "    result1 = result1.append({\"Avg\" : sum(result1[\"Avg\"]), \"Max\" : sum(result1[\"Max\"]), \"Your\" : sum(result1[\"Your\"])}, ignore_index = True)\n",
    "    result1[\"Subjects\"] = ['Maths', 'Physics', 'Chemistry', 'Computer', 'English', \"Total\"]\n",
    "    result1[\"Grades\"] = grades\n",
    "    result1.set_index(\"Subjects\", inplace = True)\n",
    "    #result1.to_csv('file1.csv',index=True)\n",
    "    return result1"
   ]
  },
  {
   "cell_type": "code",
   "execution_count": 104,
   "metadata": {},
   "outputs": [
    {
     "data": {
      "text/plain": [
       "['M', 4095, 'I2IT']"
      ]
     },
     "execution_count": 104,
     "metadata": {},
     "output_type": "execute_result"
    }
   ],
   "source": [
    "x = list(df2.iloc[0])\n",
    "x = x[1:4]\n",
    "x"
   ]
  },
  {
   "cell_type": "code",
   "execution_count": 105,
   "metadata": {},
   "outputs": [],
   "source": [
    "def final_report(fileName2, i, name):\n",
    "    x = list(df2.iloc[0])\n",
    "    x = x[1:4]\n",
    "    mks = list(result1[\"Your\"])[-1]\n",
    "    percentage = (mks/50)*100\n",
    "\n",
    "    wb = openpyxl.load_workbook(\"Excels\\\\\"+fileName2)  \n",
    "    sheet = wb.active  \n",
    "\n",
    "    sheet['A1'] = \"College\"  \n",
    "    sheet['A3'] = \"College\"  \n",
    "    sheet['A4'] = \"Gender\"\n",
    "    sheet['A5'] = \"Roll\"\n",
    "    sheet['A6'] = \"Name\"\n",
    "    sheet['B1'] = \"Name\"\n",
    "    sheet['B3'] = \"Code\"\n",
    "    sheet['C4'] = x[0]\n",
    "    sheet['B5'] = \"No.\"\n",
    "    sheet['C1'] = x[2]\n",
    "    sheet['C3'] = x[1]\n",
    "    sheet['C5'] = i+1\n",
    "    sheet['C6'] = name\n",
    "    sheet['A13'] = \"Percentage\"\n",
    "    sheet['B13'] = percentage\n",
    "\n",
    "    img = openpyxl.drawing.image.Image('plot_1.png')\n",
    "    img.height = 300\n",
    "    img.width = 450\n",
    "    sheet.add_image(img, \"A15\")\n",
    "    wb.save(\"Excels\\\\\"+fileName2)"
   ]
  },
  {
   "cell_type": "code",
   "execution_count": 106,
   "metadata": {},
   "outputs": [],
   "source": [
    "def convert(WB_PATH, PATH_TO_PDF):\n",
    "    excel = win32com.client.Dispatch(\"Excel.Application\")\n",
    "\n",
    "    excel.Visible = False\n",
    "\n",
    "    try:\n",
    "        #print('Start conversion to PDF')\n",
    "\n",
    "        # Open\n",
    "        wb = excel.Workbooks.Open(WB_PATH)\n",
    "\n",
    "        # Specify the sheet you want to save by index. 1 is the first (leftmost) sheet.\n",
    "        ws_index_list = [1]\n",
    "        wb.WorkSheets(ws_index_list).Select()\n",
    "\n",
    "        # Save\n",
    "        wb.ActiveSheet.ExportAsFixedFormat(0, PATH_TO_PDF)\n",
    "    except com_error as e:\n",
    "        print('failed.')\n",
    "    finally:\n",
    "        wb.Close()\n",
    "        excel.Quit()"
   ]
  },
  {
   "cell_type": "code",
   "execution_count": 107,
   "metadata": {},
   "outputs": [
    {
     "name": "stderr",
     "output_type": "stream",
     "text": [
      "C:\\Users\\Piyush\\anaconda3\\lib\\site-packages\\ipykernel_launcher.py:14: UserWarning: This figure includes Axes that are not compatible with tight_layout, so results might be incorrect.\n",
      "  \n"
     ]
    },
    {
     "data": {
      "image/png": "[encoded data removed]",
      "text/plain": [
       "<Figure size 576x288 with 1 Axes>"
      ]
     },
     "metadata": {
      "needs_background": "light"
     },
     "output_type": "display_data"
    },
    {
     "data": {
      "image/png": "[encoded data removed]",
      "text/plain": [
       "<Figure size 576x288 with 1 Axes>"
      ]
     },
     "metadata": {
      "needs_background": "light"
     },
     "output_type": "display_data"
    },
    {
     "data": {
      "image/png": "[encoded data removed]",
      "text/plain": [
       "<Figure size 576x288 with 1 Axes>"
      ]
     },
     "metadata": {
      "needs_background": "light"
     },
     "output_type": "display_data"
    }
   ],
   "source": [
    "for i in range(len(rollNos)):\n",
    "    stud1 = []\n",
    "    for j in range(5):\n",
    "        stud1.append(stud[i][j])\n",
    "    if atten[i] >= 75:\n",
    "        fileName = \"stud\" + str(i+1) + \".png\"\n",
    "        save_plots(stud1, fileName, i)\n",
    "        result1 = report_card(stud1, min_marks, max_marks, avg_marks, subs)\n",
    "        fileName2 = \"stud\" + str(i+1) + \".xlsx\"\n",
    "        result1.to_excel(\"Excels\\\\\"+fileName2, sheet_name = \"Sheet_1\", startrow = 6)\n",
    "        final_report(fileName2, i, name[i])\n",
    "        # Path to original excel file\n",
    "        WB_PATH = r'C:\\Users\\Piyush\\Desktop\\IoT+Schneider\\My_Projects\\Hackathon\\donno\\Excels\\\\'+fileName2\n",
    "        # PDF path when saving\n",
    "        PATH_TO_PDF = r'C:\\Users\\Piyush\\Desktop\\IoT+Schneider\\My_Projects\\Hackathon\\donno\\Final results\\\\'+fileName2[:-4]+'pdf'\n",
    "        convert(WB_PATH, PATH_TO_PDF)\n"
   ]
  },
  {
   "cell_type": "code",
   "execution_count": 122,
   "metadata": {},
   "outputs": [],
   "source": [
    "total_number = len(rollNos)\n",
    "mcount, fcount, ligit = 0, 0, 0\n",
    "for i in range(len(gender)):\n",
    "    if gender[i] == 'M':\n",
    "        mcount += 1\n",
    "    elif gender[i] == 'F':\n",
    "        fcount += 1\n",
    "    if atten[i] >= 75:\n",
    "        ligit += 1"
   ]
  },
  {
   "cell_type": "code",
   "execution_count": 123,
   "metadata": {},
   "outputs": [
    {
     "name": "stdout",
     "output_type": "stream",
     "text": [
      "Total number of students appeared:  4\n",
      "Total number of Boys appeared:  4\n",
      "Total number of Girls appeared:  0\n",
      "Total number of student eligible for result:  3\n"
     ]
    }
   ],
   "source": [
    "print(\"Total number of students appeared: \", total_number)\n",
    "print(\"Total number of Boys appeared: \", mcount)\n",
    "print(\"Total number of Girls appeared: \", fcount)\n",
    "print(\"Total number of student eligible for result: \", ligit)\n"
   ]
  },
  {
   "cell_type": "code",
   "execution_count": null,
   "metadata": {},
   "outputs": [],
   "source": []
  },
  {
   "cell_type": "code",
   "execution_count": null,
   "metadata": {},
   "outputs": [],
   "source": []
  }
 ],
 "metadata": {
  "kernelspec": {
   "display_name": "Python 3",
   "language": "python",
   "name": "python3"
  },
  "language_info": {
   "codemirror_mode": {
    "name": "ipython",
    "version": 3
   },
   "file_extension": ".py",
   "mimetype": "text/x-python",
   "name": "python",
   "nbconvert_exporter": "python",
   "pygments_lexer": "ipython3",
   "version": "3.7.6"
  }
 },
 "nbformat": 4,
 "nbformat_minor": 4
}
