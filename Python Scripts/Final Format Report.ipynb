{
 "cells": [
  {
   "cell_type": "code",
   "execution_count": 2,
   "metadata": {},
   "outputs": [],
   "source": [
    "import numpy as np \n",
    "import pandas as pd\n",
    "import matplotlib.pyplot as plt\n",
    "import openpyxl  \n",
    "import time  \n",
    "from openpyxl.styles import Alignment \n",
    "import win32com.client\n",
    "from pywintypes import com_error"
   ]
  },
  {
   "cell_type": "markdown",
   "metadata": {},
   "source": [
    "### Data Formatting \n",
    "\n",
    "Changing the original subject names to :\n",
    "\n",
    "\"subject 1\", \"subject 2\", \"subject 3\", \"subject 4\", \"subject 5\""
   ]
  },
  {
   "cell_type": "code",
   "execution_count": 17,
   "metadata": {},
   "outputs": [
    {
     "data": {
      "text/html": [
       "<div>\n",
       "<style scoped>\n",
       "    .dataframe tbody tr th:only-of-type {\n",
       "        vertical-align: middle;\n",
       "    }\n",
       "\n",
       "    .dataframe tbody tr th {\n",
       "        vertical-align: top;\n",
       "    }\n",
       "\n",
       "    .dataframe thead th {\n",
       "        text-align: right;\n",
       "    }\n",
       "</style>\n",
       "<table border=\"1\" class=\"dataframe\">\n",
       "  <thead>\n",
       "    <tr style=\"text-align: right;\">\n",
       "      <th></th>\n",
       "      <th>Name</th>\n",
       "      <th>Roll No.</th>\n",
       "      <th>Gender</th>\n",
       "      <th>College Code</th>\n",
       "      <th>College Name</th>\n",
       "      <th>subject 1</th>\n",
       "      <th>subject 2</th>\n",
       "      <th>subject 3</th>\n",
       "      <th>subject 4</th>\n",
       "      <th>subject 5</th>\n",
       "      <th>Attendace</th>\n",
       "    </tr>\n",
       "  </thead>\n",
       "  <tbody>\n",
       "    <tr>\n",
       "      <th>0</th>\n",
       "      <td>Yasho</td>\n",
       "      <td>17055</td>\n",
       "      <td>M</td>\n",
       "      <td>4095</td>\n",
       "      <td>I2IT</td>\n",
       "      <td>8.11</td>\n",
       "      <td>7.68</td>\n",
       "      <td>7.11</td>\n",
       "      <td>7.43</td>\n",
       "      <td>8.18</td>\n",
       "      <td>98</td>\n",
       "    </tr>\n",
       "    <tr>\n",
       "      <th>1</th>\n",
       "      <td>Piyush</td>\n",
       "      <td>17056</td>\n",
       "      <td>M</td>\n",
       "      <td>4095</td>\n",
       "      <td>I2IT</td>\n",
       "      <td>6.48</td>\n",
       "      <td>5.90</td>\n",
       "      <td>4.15</td>\n",
       "      <td>4.29</td>\n",
       "      <td>4.96</td>\n",
       "      <td>83</td>\n",
       "    </tr>\n",
       "    <tr>\n",
       "      <th>2</th>\n",
       "      <td>Aayush</td>\n",
       "      <td>17057</td>\n",
       "      <td>M</td>\n",
       "      <td>4095</td>\n",
       "      <td>I2IT</td>\n",
       "      <td>8.41</td>\n",
       "      <td>8.24</td>\n",
       "      <td>7.52</td>\n",
       "      <td>8.25</td>\n",
       "      <td>7.75</td>\n",
       "      <td>76</td>\n",
       "    </tr>\n",
       "    <tr>\n",
       "      <th>3</th>\n",
       "      <td>Pratik</td>\n",
       "      <td>17058</td>\n",
       "      <td>M</td>\n",
       "      <td>4095</td>\n",
       "      <td>I2IT</td>\n",
       "      <td>7.33</td>\n",
       "      <td>6.83</td>\n",
       "      <td>6.33</td>\n",
       "      <td>6.79</td>\n",
       "      <td>6.89</td>\n",
       "      <td>60</td>\n",
       "    </tr>\n",
       "  </tbody>\n",
       "</table>\n",
       "</div>"
      ],
      "text/plain": [
       "     Name  Roll No. Gender  College Code College Name  subject 1  subject 2  \\\n",
       "0   Yasho     17055      M          4095         I2IT       8.11       7.68   \n",
       "1  Piyush     17056      M          4095         I2IT       6.48       5.90   \n",
       "2  Aayush     17057      M          4095         I2IT       8.41       8.24   \n",
       "3  Pratik     17058      M          4095         I2IT       7.33       6.83   \n",
       "\n",
       "   subject 3  subject 4  subject 5  Attendace  \n",
       "0       7.11       7.43       8.18         98  \n",
       "1       4.15       4.29       4.96         83  \n",
       "2       7.52       8.25       7.75         76  \n",
       "3       6.33       6.79       6.89         60  "
      ]
     },
     "execution_count": 17,
     "metadata": {},
     "output_type": "execute_result"
    }
   ],
   "source": [
    "def format_dataframe(df):\n",
    "    y = list(df.columns)\n",
    "    x = list(df.columns)\n",
    "    j = 1\n",
    "    for i in range(5,len(x)-1):\n",
    "        x[i] = \"subject \"+str(j)\n",
    "        j += 1\n",
    "    df.columns = x\n",
    "    return df, y[5:10]\n",
    "df = pd.read_excel(\"Required Format.xlsx\")\n",
    "df, subject_names = format_dataframe(df)\n",
    "df"
   ]
  },
  {
   "cell_type": "markdown",
   "metadata": {},
   "source": [
    "### Performing General Analysis on the data:\n",
    "\n",
    "1. Finding out the maximum marks scored in each subjet\n",
    "2. Finding ot the average marksin each subject"
   ]
  },
  {
   "cell_type": "code",
   "execution_count": 18,
   "metadata": {},
   "outputs": [
    {
     "data": {
      "text/html": [
       "<div>\n",
       "<style scoped>\n",
       "    .dataframe tbody tr th:only-of-type {\n",
       "        vertical-align: middle;\n",
       "    }\n",
       "\n",
       "    .dataframe tbody tr th {\n",
       "        vertical-align: top;\n",
       "    }\n",
       "\n",
       "    .dataframe thead th {\n",
       "        text-align: right;\n",
       "    }\n",
       "</style>\n",
       "<table border=\"1\" class=\"dataframe\">\n",
       "  <thead>\n",
       "    <tr style=\"text-align: right;\">\n",
       "      <th></th>\n",
       "      <th>Max Marks</th>\n",
       "      <th>Average Marks</th>\n",
       "    </tr>\n",
       "  </thead>\n",
       "  <tbody>\n",
       "    <tr>\n",
       "      <th>subject 1</th>\n",
       "      <td>8.41</td>\n",
       "      <td>7.5825</td>\n",
       "    </tr>\n",
       "    <tr>\n",
       "      <th>subject 2</th>\n",
       "      <td>8.24</td>\n",
       "      <td>7.1625</td>\n",
       "    </tr>\n",
       "    <tr>\n",
       "      <th>subject 3</th>\n",
       "      <td>7.52</td>\n",
       "      <td>6.2775</td>\n",
       "    </tr>\n",
       "    <tr>\n",
       "      <th>subject 4</th>\n",
       "      <td>8.25</td>\n",
       "      <td>6.6900</td>\n",
       "    </tr>\n",
       "    <tr>\n",
       "      <th>subject 5</th>\n",
       "      <td>8.18</td>\n",
       "      <td>6.9450</td>\n",
       "    </tr>\n",
       "  </tbody>\n",
       "</table>\n",
       "</div>"
      ],
      "text/plain": [
       "           Max Marks  Average Marks\n",
       "subject 1       8.41         7.5825\n",
       "subject 2       8.24         7.1625\n",
       "subject 3       7.52         6.2775\n",
       "subject 4       8.25         6.6900\n",
       "subject 5       8.18         6.9450"
      ]
     },
     "execution_count": 18,
     "metadata": {},
     "output_type": "execute_result"
    }
   ],
   "source": [
    "def gen_analysis(df):\n",
    "    s1 = max(df[\"subject 1\"])\n",
    "    s2 = max(df[\"subject 2\"])\n",
    "    s3 = max(df[\"subject 3\"])\n",
    "    s4 = max(df[\"subject 4\"])\n",
    "    s5 = max(df[\"subject 5\"])\n",
    "    max_marks = [s1, s2, s3, s4, s5]\n",
    "\n",
    "    s1 = np.mean(df[\"subject 1\"])\n",
    "    s2 = np.mean(df[\"subject 2\"])\n",
    "    s3 = np.mean(df[\"subject 3\"])\n",
    "    s4 = np.mean(df[\"subject 4\"])\n",
    "    s5 =  np.mean(df[\"subject 5\"])\n",
    "    avg_marks = [s1, s2, s3, s4, s5]\n",
    "    \n",
    "    s_1 = pd.Series(max_marks, index = [\"subject 1\", \"subject 2\", \"subject 3\", \"subject 4\", \"subject 5\"])\n",
    "    s_2 = pd.Series(avg_marks, index = [\"subject 1\", \"subject 2\", \"subject 3\", \"subject 4\", \"subject 5\"])\n",
    "\n",
    "    analysis = pd.DataFrame([s_1, s_2])\n",
    "    analysis = analysis.T\n",
    "    analysis.rename(columns={0:\"Max Marks\", 1:\"Average Marks\"}, inplace = True)\n",
    "    return analysis, avg_marks, max_marks\n",
    "\n",
    "analysis, avg_marks, max_marks = gen_analysis(df)\n",
    "analysis"
   ]
  },
  {
   "cell_type": "markdown",
   "metadata": {},
   "source": [
    "### Graph for comparing students performance with the other students\n",
    "\n",
    "1. Joint Bar Graph with parameters:\n",
    "    - Highest marks in a subject\n",
    "    - Average marks in a subject\n",
    "    - Marks score by student in a subject"
   ]
  },
  {
   "cell_type": "code",
   "execution_count": 19,
   "metadata": {},
   "outputs": [
    {
     "data": {
      "image/png": "[encoded data removed]",
      "text/plain": [
       "<Figure size 432x288 with 1 Axes>"
      ]
     },
     "metadata": {
      "needs_background": "light"
     },
     "output_type": "display_data"
    }
   ],
   "source": [
    "def student_perf_graph(student_marks, avg_marks, max_marks, subject_names):\n",
    "    n_groups = 5\n",
    "    data = [avg_marks, max_marks]\n",
    "    data.append(student_marks)\n",
    "    # create plot\n",
    "    fig, ax = plt.subplots()\n",
    "    index = np.arange(n_groups)\n",
    "    bar_width = 0.25\n",
    "\n",
    "    col_1 = plt.bar(index, data[0], bar_width, color='b', label='Average Marks')\n",
    "\n",
    "    col_2 = plt.bar(index + bar_width, data[1], bar_width, color='g', label='Max Marks')\n",
    "\n",
    "    col_3 = plt.bar(index + bar_width*2, data[2], bar_width, color='r', label='Student Marks')\n",
    "\n",
    "\n",
    "    plt.xlabel('Subjects')\n",
    "    plt.ylabel('Marks')\n",
    "    plt.title('Comparison Graph')\n",
    "    plt.xticks(index + bar_width, tuple(subject_names))\n",
    "    plt.legend()\n",
    "    plt.savefig(\"plot_1.png\", dpi = 150)\n",
    "    plt.tight_layout()\n",
    "    plt.show()\n",
    "\n",
    "student = list(df.iloc[0])[5:10]\n",
    "graph = student_perf_graph(student, avg_marks, max_marks, subject_names)\n",
    "graph"
   ]
  },
  {
   "cell_type": "markdown",
   "metadata": {},
   "source": [
    "### Generating the student Report Card:\n",
    "\n",
    "- Report contains the tabular data of students marks\n",
    "- Row with total marks is added"
   ]
  },
  {
   "cell_type": "code",
   "execution_count": 20,
   "metadata": {},
   "outputs": [
    {
     "data": {
      "text/html": [
       "<div>\n",
       "<style scoped>\n",
       "    .dataframe tbody tr th:only-of-type {\n",
       "        vertical-align: middle;\n",
       "    }\n",
       "\n",
       "    .dataframe tbody tr th {\n",
       "        vertical-align: top;\n",
       "    }\n",
       "\n",
       "    .dataframe thead th {\n",
       "        text-align: right;\n",
       "    }\n",
       "</style>\n",
       "<table border=\"1\" class=\"dataframe\">\n",
       "  <thead>\n",
       "    <tr style=\"text-align: right;\">\n",
       "      <th></th>\n",
       "      <th>Min</th>\n",
       "      <th>Max</th>\n",
       "      <th>Student</th>\n",
       "      <th>Grade</th>\n",
       "    </tr>\n",
       "    <tr>\n",
       "      <th>Subjects</th>\n",
       "      <th></th>\n",
       "      <th></th>\n",
       "      <th></th>\n",
       "      <th></th>\n",
       "    </tr>\n",
       "  </thead>\n",
       "  <tbody>\n",
       "    <tr>\n",
       "      <th>Subject 1</th>\n",
       "      <td>4.0</td>\n",
       "      <td>10.0</td>\n",
       "      <td>8.11</td>\n",
       "      <td>A</td>\n",
       "    </tr>\n",
       "    <tr>\n",
       "      <th>Subject 2</th>\n",
       "      <td>4.0</td>\n",
       "      <td>10.0</td>\n",
       "      <td>7.68</td>\n",
       "      <td>B</td>\n",
       "    </tr>\n",
       "    <tr>\n",
       "      <th>Subject 3</th>\n",
       "      <td>4.0</td>\n",
       "      <td>10.0</td>\n",
       "      <td>7.11</td>\n",
       "      <td>B</td>\n",
       "    </tr>\n",
       "    <tr>\n",
       "      <th>Subject 4</th>\n",
       "      <td>4.0</td>\n",
       "      <td>10.0</td>\n",
       "      <td>7.43</td>\n",
       "      <td>B</td>\n",
       "    </tr>\n",
       "    <tr>\n",
       "      <th>Subject 5</th>\n",
       "      <td>4.0</td>\n",
       "      <td>10.0</td>\n",
       "      <td>8.18</td>\n",
       "      <td>A</td>\n",
       "    </tr>\n",
       "    <tr>\n",
       "      <th>Total</th>\n",
       "      <td>20.0</td>\n",
       "      <td>50.0</td>\n",
       "      <td>38.51</td>\n",
       "      <td>B</td>\n",
       "    </tr>\n",
       "  </tbody>\n",
       "</table>\n",
       "</div>"
      ],
      "text/plain": [
       "            Min   Max  Student Grade\n",
       "Subjects                            \n",
       "Subject 1   4.0  10.0     8.11     A\n",
       "Subject 2   4.0  10.0     7.68     B\n",
       "Subject 3   4.0  10.0     7.11     B\n",
       "Subject 4   4.0  10.0     7.43     B\n",
       "Subject 5   4.0  10.0     8.18     A\n",
       "Total      20.0  50.0    38.51     B"
      ]
     },
     "execution_count": 20,
     "metadata": {},
     "output_type": "execute_result"
    }
   ],
   "source": [
    "def report_card(student_marks, subject_names):\n",
    "    subjects = [\"subject 1\", \"subject 2\", \"subject 3\", \"subject 4\", \"subject 5\"]\n",
    "    min_marks = [4 for i in range(5)]\n",
    "    max_marks = [10 for i in range(5)]\n",
    "\n",
    "    student_marks.append(sum(student_marks)/5)\n",
    "    grades = []\n",
    "    for i in range(len(student_marks)):\n",
    "        if student_marks[i] >= 9:\n",
    "            grades.append(\"O\")\n",
    "        elif 9 > student_marks[i] >= 8:\n",
    "            grades.append(\"A\")\n",
    "        elif 8 > student_marks[i] >= 7:\n",
    "            grades.append(\"B\")\n",
    "        elif 7 > student_marks[i] >= 6:\n",
    "            grades.append(\"C\")\n",
    "        elif 6 > student_marks[i] >= 5:\n",
    "            grades.append(\"D\")\n",
    "        elif 5 > student_marks[i] >= 4:\n",
    "            grades.append(\"P\")\n",
    "        else:\n",
    "            grades.append(\"F\")\n",
    "        \n",
    "    \n",
    "    s1 = pd.Series(min_marks, index = subjects)\n",
    "    s2 = pd.Series(max_marks, index = subjects)\n",
    "    s3 = pd.Series(student_marks[:-1], index = subjects)\n",
    "    \n",
    "    report = pd.DataFrame((s1, s2, s3), index = [\"Min\", \"Max\", \"Student\"])\n",
    "    report = report.T\n",
    "    total = sum(list(report[\"Student\"]))\n",
    "    report = report.append({\"Min\" : sum(report[\"Min\"]), \"Max\" : sum(report[\"Max\"])\n",
    "                           ,\"Student\" : total}, ignore_index = True)\n",
    "    subject_names.append(\"Total\")\n",
    "    report[\"Subjects\"] = subject_names\n",
    "    report[\"Grade\"] = grades\n",
    "    report.set_index(\"Subjects\", inplace = True)\n",
    "    \n",
    "    return report\n",
    "\n",
    "r = report_card(student, subject_names)\n",
    "r"
   ]
  },
  {
   "cell_type": "markdown",
   "metadata": {},
   "source": [
    "### Formatting the Report:\n",
    "\n",
    "- Adding credentials like:\n",
    "    - Name \n",
    "    - Roll number\n",
    "    - Gender\n",
    "    - College code\n",
    "    - College name\n",
    "    - Attendance\n",
    "- Inserting the comparison graph"
   ]
  },
  {
   "cell_type": "code",
   "execution_count": 6,
   "metadata": {},
   "outputs": [],
   "source": [
    "\n",
    "def final_format(r, x):\n",
    "    mks = list(r[\"Student\"])[-1]\n",
    "    percentage = (mks/50)*100\n",
    "\n",
    "    wb = openpyxl.load_workbook(\"sample_file.xlsx\")  \n",
    "    sheet = wb.active  \n",
    "    \n",
    "    sheet.merge_cells('A1:B1')\n",
    "    sheet.merge_cells('A13:C13')\n",
    "    sheet.merge_cells('C1:E1')\n",
    "    sheet.merge_cells('C2:E2')\n",
    "    sheet.merge_cells('C3:E3')\n",
    "    \n",
    "    cell = sheet.cell(row = 3, column =3)\n",
    "    cell.value = \"Name:   \"+str(x[0])\n",
    "    cell.alignment = Alignment(horizontal='center', vertical='center')\n",
    "    \n",
    "    cell = sheet.cell(row = 1, column =3)\n",
    "    cell.value = \"College Name:   \"+str(x[4])\n",
    "    cell.alignment = Alignment(horizontal='center', vertical='center')\n",
    "    \n",
    "    cell = sheet.cell(row = 2, column =3)\n",
    "    cell.value = \"Attendance:        \"+str(x[-1])+\"%\"\n",
    "    cell.alignment = Alignment(horizontal='center', vertical='center')\n",
    "    \n",
    "    cell = sheet.cell(row = 1, column =1)\n",
    "    cell.value = \"College Code:   \"+str(x[3])\n",
    "    cell.alignment = Alignment(horizontal='left', vertical='center')\n",
    "    \n",
    "    \n",
    "    sheet['A2'] = \"Gender\"  \n",
    "    cell = sheet.cell(row = 2, column =2)\n",
    "    cell.value = x[2]\n",
    "    cell.alignment = Alignment(horizontal='right', vertical='center')\n",
    "    \n",
    "    \n",
    "    sheet['A3'] = \"Roll No.\" \n",
    "    sheet['B3'] = x[1]\n",
    "    \n",
    "    \n",
    "    cell = sheet.cell(row = 13, column = 1)\n",
    "    cell.value = \"Percentage   =        \"+str(percentage)+\"%\"\n",
    "    cell.alignment = Alignment(horizontal='left', vertical='center')\n",
    "\n",
    "    for j in range(1,6):\n",
    "        for i in range(6, 12):\n",
    "            cell = sheet.cell(row = i, column = j)\n",
    "            cell.alignment = Alignment(horizontal='center', vertical='center')\n",
    "\n",
    "    img = openpyxl.drawing.image.Image('plot_1.png')\n",
    "    img.height = 300\n",
    "    img.width = 450\n",
    "    sheet.add_image(img, \"A15\")\n",
    "    wb.save(\"sample_file.xlsx\")\n",
    "    \n"
   ]
  },
  {
   "cell_type": "markdown",
   "metadata": {},
   "source": [
    "### Finally converting the Excel sheet to PDF "
   ]
  },
  {
   "cell_type": "code",
   "execution_count": 7,
   "metadata": {},
   "outputs": [],
   "source": [
    "def convert_to_pdf(i):\n",
    "    # Path to original excel file\n",
    "    WB_PATH = r'C:\\Users\\HP\\Desktop\\Jupyter Notebooks\\sample_file.xlsx'\n",
    "    # PDF path when saving\n",
    "    \n",
    "    PATH_TO_PDF = r'C:\\Users\\HP\\Desktop\\Jupyter Notebooks\\sample_file_{}.pdf'.format(i)\n",
    "\n",
    "\n",
    "    excel = win32com.client.Dispatch(\"Excel.Application\")\n",
    "\n",
    "    excel.Visible = False\n",
    "\n",
    "    try:\n",
    "        print('Start conversion to PDF')\n",
    "\n",
    "        # Open\n",
    "        wb = excel.Workbooks.Open(WB_PATH)\n",
    "\n",
    "        # Specify the sheet you want to save by index. 1 is the first (leftmost) sheet.\n",
    "        ws_index_list = [1]\n",
    "        wb.WorkSheets(ws_index_list).Select()\n",
    "\n",
    "        # Save\n",
    "        wb.ActiveSheet.ExportAsFixedFormat(0, PATH_TO_PDF)\n",
    "    except com_error as e:\n",
    "        print('failed.')\n",
    "    else:\n",
    "        print('Succeeded.')\n",
    "    finally:\n",
    "        excel.Quit()\n",
    "        \n"
   ]
  },
  {
   "cell_type": "code",
   "execution_count": 8,
   "metadata": {},
   "outputs": [
    {
     "data": {
      "image/png": "[encoded data removed]",
      "text/plain": [
       "<Figure size 432x288 with 1 Axes>"
      ]
     },
     "metadata": {
      "needs_background": "light"
     },
     "output_type": "display_data"
    },
    {
     "name": "stdout",
     "output_type": "stream",
     "text": [
      "Start conversion to PDF\n",
      "Succeeded.\n"
     ]
    },
    {
     "data": {
      "image/png": "[encoded data removed]",
      "text/plain": [
       "<Figure size 432x288 with 1 Axes>"
      ]
     },
     "metadata": {
      "needs_background": "light"
     },
     "output_type": "display_data"
    },
    {
     "name": "stdout",
     "output_type": "stream",
     "text": [
      "Start conversion to PDF\n",
      "Succeeded.\n"
     ]
    },
    {
     "data": {
      "image/png": "[encoded data removed]",
      "text/plain": [
       "<Figure size 432x288 with 1 Axes>"
      ]
     },
     "metadata": {
      "needs_background": "light"
     },
     "output_type": "display_data"
    },
    {
     "name": "stdout",
     "output_type": "stream",
     "text": [
      "Start conversion to PDF\n",
      "Succeeded.\n"
     ]
    },
    {
     "data": {
      "image/png": "[encoded data removed]",
      "text/plain": [
       "<Figure size 432x288 with 1 Axes>"
      ]
     },
     "metadata": {
      "needs_background": "light"
     },
     "output_type": "display_data"
    },
    {
     "name": "stdout",
     "output_type": "stream",
     "text": [
      "Start conversion to PDF\n",
      "Succeeded.\n"
     ]
    }
   ],
   "source": [
    "def main():\n",
    "    df = pd.read_excel(\"Required Format.xlsx\")\n",
    "    for i in range(len(df)):\n",
    "        df = pd.read_excel(\"Required Format.xlsx\")\n",
    "        df, subject_names = format_dataframe(df)\n",
    "        analysis, avg_marks, max_marks = gen_analysis(df)\n",
    "        student = list(df.iloc[i])[5:10]\n",
    "        graph = student_perf_graph(student, avg_marks, max_marks, subject_names)\n",
    "        r = report_card(student, subject_names)\n",
    "        r.to_excel(\"sample_file.xlsx\", sheet_name = \"Sheet_1\", startrow = 4)\n",
    "        x = list(df.iloc[i])\n",
    "        y = x[-1]\n",
    "        x = x[:5]\n",
    "        x.append(y)\n",
    "        final_format(r, x)\n",
    "        convert_to_pdf(i)\n",
    "main()"
   ]
  },
  {
   "cell_type": "code",
   "execution_count": null,
   "metadata": {},
   "outputs": [],
   "source": []
  }
 ],
 "metadata": {
  "kernelspec": {
   "display_name": "Python 3",
   "language": "python",
   "name": "python3"
  },
  "language_info": {
   "codemirror_mode": {
    "name": "ipython",
    "version": 3
   },
   "file_extension": ".py",
   "mimetype": "text/x-python",
   "name": "python",
   "nbconvert_exporter": "python",
   "pygments_lexer": "ipython3",
   "version": "3.7.7"
  }
 },
 "nbformat": 4,
 "nbformat_minor": 4
}
